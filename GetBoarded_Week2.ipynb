{
  "nbformat": 4,
  "nbformat_minor": 0,
  "metadata": {
    "colab": {
      "name": "GetBoarded_Week2.ipynb",
      "provenance": [],
      "authorship_tag": "ABX9TyM++ObXSlXpV6fwOy6pcTEp",
      "include_colab_link": true
    },
    "kernelspec": {
      "name": "python3",
      "display_name": "Python 3"
    }
  },
  "cells": [
    {
      "cell_type": "markdown",
      "metadata": {
        "id": "view-in-github",
        "colab_type": "text"
      },
      "source": [
        "<a href=\"https://colab.research.google.com/github/newb-dev-1008/GetBoarded_Latitude/blob/ipython/GetBoarded_Week2.ipynb\" target=\"_parent\"><img src=\"https://colab.research.google.com/assets/colab-badge.svg\" alt=\"Open In Colab\"/></a>"
      ]
    },
    {
      "cell_type": "markdown",
      "metadata": {
        "id": "ACdXlCq5QS5q",
        "colab_type": "text"
      },
      "source": [
        "# **Project to find the correlation between latitudes and the spread of CoVID-19**\n",
        "\n",
        "**Objectives/ guidelines to keep in mind:**\n",
        "\n",
        "*   Segregate all data region-wise\n",
        "*   Replace the regions column with the corresponding latitudes from the latitudes dataset\n",
        "*   Visually determine the rates of growth in cases in the most-hit and the least-hit regions\n",
        "*   Predict the growth of cases and check if latitudes and growth are correlated; whether latitudes behave as a deciding factor in prediction\n",
        "\n",
        "**IMPORTANT: Remember to add the CSV files everytime you log in to the notebook. The CSV files are kept in the GitHub repository; you can save them to your respective devices and upload them whenever you work.**\n",
        "\n",
        "**Directions for saving:**\n",
        "\n",
        "- Go to File - Save a copy on GitHub.\n",
        "- Select the repository and the branch \"ipython\".\n",
        "- **Do not change the name of the Colab notebook while saving.**\n",
        "\n",
        "Also, try to create a text cell to note the variable names with their specifications wherever possible. It'll be helpful for all teammates.\n",
        "\n",
        "\n",
        "\n"
      ]
    },
    {
      "cell_type": "code",
      "metadata": {
        "id": "s5zzYpmiQL6M",
        "colab_type": "code",
        "colab": {}
      },
      "source": [
        "import pandas as pd\n",
        "\n",
        "latitudes = pd.read_csv('latitudes.csv')\n",
        "covid_data = pd.read_csv('covid_19_data.csv')"
      ],
      "execution_count": 0,
      "outputs": []
    },
    {
      "cell_type": "code",
      "metadata": {
        "id": "49MKoGTEU_Jf",
        "colab_type": "code",
        "outputId": "1e9792df-3a92-4bb0-9a61-4abec3550331",
        "colab": {
          "base_uri": "https://localhost:8080/",
          "height": 195
        }
      },
      "source": [
        "latitudes_countries = latitudes.iloc[:, :4]\n",
        "latitudes_countries.head()"
      ],
      "execution_count": 30,
      "outputs": [
        {
          "output_type": "execute_result",
          "data": {
            "text/html": [
              "<div>\n",
              "<style scoped>\n",
              "    .dataframe tbody tr th:only-of-type {\n",
              "        vertical-align: middle;\n",
              "    }\n",
              "\n",
              "    .dataframe tbody tr th {\n",
              "        vertical-align: top;\n",
              "    }\n",
              "\n",
              "    .dataframe thead th {\n",
              "        text-align: right;\n",
              "    }\n",
              "</style>\n",
              "<table border=\"1\" class=\"dataframe\">\n",
              "  <thead>\n",
              "    <tr style=\"text-align: right;\">\n",
              "      <th></th>\n",
              "      <th>country_code</th>\n",
              "      <th>latitude</th>\n",
              "      <th>longitude</th>\n",
              "      <th>country</th>\n",
              "    </tr>\n",
              "  </thead>\n",
              "  <tbody>\n",
              "    <tr>\n",
              "      <th>0</th>\n",
              "      <td>AD</td>\n",
              "      <td>42.546245</td>\n",
              "      <td>1.601554</td>\n",
              "      <td>Andorra</td>\n",
              "    </tr>\n",
              "    <tr>\n",
              "      <th>1</th>\n",
              "      <td>AE</td>\n",
              "      <td>23.424076</td>\n",
              "      <td>53.847818</td>\n",
              "      <td>United Arab Emirates</td>\n",
              "    </tr>\n",
              "    <tr>\n",
              "      <th>2</th>\n",
              "      <td>AF</td>\n",
              "      <td>33.939110</td>\n",
              "      <td>67.709953</td>\n",
              "      <td>Afghanistan</td>\n",
              "    </tr>\n",
              "    <tr>\n",
              "      <th>3</th>\n",
              "      <td>AG</td>\n",
              "      <td>17.060816</td>\n",
              "      <td>-61.796428</td>\n",
              "      <td>Antigua and Barbuda</td>\n",
              "    </tr>\n",
              "    <tr>\n",
              "      <th>4</th>\n",
              "      <td>AI</td>\n",
              "      <td>18.220554</td>\n",
              "      <td>-63.068615</td>\n",
              "      <td>Anguilla</td>\n",
              "    </tr>\n",
              "  </tbody>\n",
              "</table>\n",
              "</div>"
            ],
            "text/plain": [
              "  country_code   latitude  longitude               country\n",
              "0           AD  42.546245   1.601554               Andorra\n",
              "1           AE  23.424076  53.847818  United Arab Emirates\n",
              "2           AF  33.939110  67.709953           Afghanistan\n",
              "3           AG  17.060816 -61.796428   Antigua and Barbuda\n",
              "4           AI  18.220554 -63.068615              Anguilla"
            ]
          },
          "metadata": {
            "tags": []
          },
          "execution_count": 30
        }
      ]
    },
    {
      "cell_type": "code",
      "metadata": {
        "id": "F-8qgZ4pVFjD",
        "colab_type": "code",
        "outputId": "9eeb0b8a-f733-4b3c-fe72-d0befcf690c6",
        "colab": {
          "base_uri": "https://localhost:8080/",
          "height": 195
        }
      },
      "source": [
        "covid_data.head()"
      ],
      "execution_count": 31,
      "outputs": [
        {
          "output_type": "execute_result",
          "data": {
            "text/html": [
              "<div>\n",
              "<style scoped>\n",
              "    .dataframe tbody tr th:only-of-type {\n",
              "        vertical-align: middle;\n",
              "    }\n",
              "\n",
              "    .dataframe tbody tr th {\n",
              "        vertical-align: top;\n",
              "    }\n",
              "\n",
              "    .dataframe thead th {\n",
              "        text-align: right;\n",
              "    }\n",
              "</style>\n",
              "<table border=\"1\" class=\"dataframe\">\n",
              "  <thead>\n",
              "    <tr style=\"text-align: right;\">\n",
              "      <th></th>\n",
              "      <th>Date</th>\n",
              "      <th>Country/Region</th>\n",
              "      <th>Province/State</th>\n",
              "      <th>Lat</th>\n",
              "      <th>Long</th>\n",
              "      <th>Confirmed</th>\n",
              "      <th>Recovered</th>\n",
              "      <th>Deaths</th>\n",
              "    </tr>\n",
              "  </thead>\n",
              "  <tbody>\n",
              "    <tr>\n",
              "      <th>0</th>\n",
              "      <td>2020-01-22</td>\n",
              "      <td>Afghanistan</td>\n",
              "      <td>NaN</td>\n",
              "      <td>33.0</td>\n",
              "      <td>65.0</td>\n",
              "      <td>0.0</td>\n",
              "      <td>0.0</td>\n",
              "      <td>0.0</td>\n",
              "    </tr>\n",
              "    <tr>\n",
              "      <th>1</th>\n",
              "      <td>2020-01-23</td>\n",
              "      <td>Afghanistan</td>\n",
              "      <td>NaN</td>\n",
              "      <td>33.0</td>\n",
              "      <td>65.0</td>\n",
              "      <td>0.0</td>\n",
              "      <td>0.0</td>\n",
              "      <td>0.0</td>\n",
              "    </tr>\n",
              "    <tr>\n",
              "      <th>2</th>\n",
              "      <td>2020-01-24</td>\n",
              "      <td>Afghanistan</td>\n",
              "      <td>NaN</td>\n",
              "      <td>33.0</td>\n",
              "      <td>65.0</td>\n",
              "      <td>0.0</td>\n",
              "      <td>0.0</td>\n",
              "      <td>0.0</td>\n",
              "    </tr>\n",
              "    <tr>\n",
              "      <th>3</th>\n",
              "      <td>2020-01-25</td>\n",
              "      <td>Afghanistan</td>\n",
              "      <td>NaN</td>\n",
              "      <td>33.0</td>\n",
              "      <td>65.0</td>\n",
              "      <td>0.0</td>\n",
              "      <td>0.0</td>\n",
              "      <td>0.0</td>\n",
              "    </tr>\n",
              "    <tr>\n",
              "      <th>4</th>\n",
              "      <td>2020-01-26</td>\n",
              "      <td>Afghanistan</td>\n",
              "      <td>NaN</td>\n",
              "      <td>33.0</td>\n",
              "      <td>65.0</td>\n",
              "      <td>0.0</td>\n",
              "      <td>0.0</td>\n",
              "      <td>0.0</td>\n",
              "    </tr>\n",
              "  </tbody>\n",
              "</table>\n",
              "</div>"
            ],
            "text/plain": [
              "         Date Country/Region Province/State  ...  Confirmed  Recovered  Deaths\n",
              "0  2020-01-22    Afghanistan            NaN  ...        0.0        0.0     0.0\n",
              "1  2020-01-23    Afghanistan            NaN  ...        0.0        0.0     0.0\n",
              "2  2020-01-24    Afghanistan            NaN  ...        0.0        0.0     0.0\n",
              "3  2020-01-25    Afghanistan            NaN  ...        0.0        0.0     0.0\n",
              "4  2020-01-26    Afghanistan            NaN  ...        0.0        0.0     0.0\n",
              "\n",
              "[5 rows x 8 columns]"
            ]
          },
          "metadata": {
            "tags": []
          },
          "execution_count": 31
        }
      ]
    },
    {
      "cell_type": "markdown",
      "metadata": {
        "id": "m8DWgDYSu5tl",
        "colab_type": "text"
      },
      "source": [
        "**Finding all countries listed in the Country/ Region column of CoVID Dataset:**"
      ]
    },
    {
      "cell_type": "code",
      "metadata": {
        "id": "uzlr13R3u_xx",
        "colab_type": "code",
        "outputId": "c585c2ef-59d1-47ce-a09e-46e34d0e8b59",
        "colab": {
          "base_uri": "https://localhost:8080/",
          "height": 34
        }
      },
      "source": [
        "covid_data['Country/Region'].unique()   #Returns all unique labels contained in the column\n",
        "covid_data['Country/Region'].nunique()   #Returns number of unique labels contained in the column"
      ],
      "execution_count": 32,
      "outputs": [
        {
          "output_type": "execute_result",
          "data": {
            "text/plain": [
              "185"
            ]
          },
          "metadata": {
            "tags": []
          },
          "execution_count": 32
        }
      ]
    },
    {
      "cell_type": "markdown",
      "metadata": {
        "id": "GBbPbGzbvDds",
        "colab_type": "text"
      },
      "source": [
        "**Similarly, finding all countries listed under the 'Country' column of the latitudes dataset**"
      ]
    },
    {
      "cell_type": "code",
      "metadata": {
        "id": "rv1nI3gWvHmo",
        "colab_type": "code",
        "outputId": "ef8467db-9b28-48f9-e882-2751d134cbe9",
        "colab": {
          "base_uri": "https://localhost:8080/",
          "height": 34
        }
      },
      "source": [
        "latitudes_countries['country'].unique()\n",
        "latitudes_countries['country'].nunique()"
      ],
      "execution_count": 33,
      "outputs": [
        {
          "output_type": "execute_result",
          "data": {
            "text/plain": [
              "245"
            ]
          },
          "metadata": {
            "tags": []
          },
          "execution_count": 33
        }
      ]
    },
    {
      "cell_type": "markdown",
      "metadata": {
        "id": "Mb06xhSUvMI3",
        "colab_type": "text"
      },
      "source": [
        "# **We Observe:**\n",
        "- China is called \"Mainland China\" in the CoVID-19 Dataset\n",
        "- The number of countries in the latitude dataset is more; the countries present in both datasets need to be replaced with their corresponding latitudes\n",
        "\n",
        "Hence, we need to:\n",
        "- Check for extra countries in either dataset\n",
        "- Merge those countries with bigger countries manually (ex: if one dataset calls it US while the other calls it United States, both need to be merged into one label and so on)\n",
        "- Discard redundant countries/ countries with zero cases"
      ]
    },
    {
      "cell_type": "code",
      "metadata": {
        "id": "Ok1pRV67vWTI",
        "colab_type": "code",
        "outputId": "f8b3a0eb-bd79-4604-a580-e92660dad129",
        "colab": {
          "base_uri": "https://localhost:8080/",
          "height": 958
        }
      },
      "source": [
        "latitudes_countries['country'].unique()"
      ],
      "execution_count": 34,
      "outputs": [
        {
          "output_type": "execute_result",
          "data": {
            "text/plain": [
              "array(['Andorra', 'United Arab Emirates', 'Afghanistan',\n",
              "       'Antigua and Barbuda', 'Anguilla', 'Albania', 'Armenia',\n",
              "       'Netherlands Antilles', 'Angola', 'Antarctica', 'Argentina',\n",
              "       'American Samoa', 'Austria', 'Australia', 'Aruba', 'Azerbaijan',\n",
              "       'Bosnia and Herzegovina', 'Barbados', 'Bangladesh', 'Belgium',\n",
              "       'Burkina Faso', 'Bulgaria', 'Bahrain', 'Burundi', 'Benin',\n",
              "       'Bermuda', 'Brunei', 'Bolivia', 'Brazil', 'Bahamas', 'Bhutan',\n",
              "       'Bouvet Island', 'Botswana', 'Belarus', 'Belize', 'Canada',\n",
              "       'Cocos [Keeling] Islands', 'Congo [DRC]',\n",
              "       'Central African Republic', 'Congo [Republic]', 'Switzerland',\n",
              "       \"Côte d'Ivoire\", 'Cook Islands', 'Chile', 'Cameroon', 'China',\n",
              "       'Colombia', 'Costa Rica', 'Cuba', 'Cape Verde', 'Christmas Island',\n",
              "       'Cyprus', 'Czech Republic', 'Germany', 'Djibouti', 'Denmark',\n",
              "       'Dominica', 'Dominican Republic', 'Algeria', 'Ecuador', 'Estonia',\n",
              "       'Egypt', 'Western Sahara', 'Eritrea', 'Spain', 'Ethiopia',\n",
              "       'Finland', 'Fiji', 'Falkland Islands [Islas Malvinas]',\n",
              "       'Micronesia', 'Faroe Islands', 'France', 'Gabon', 'United Kingdom',\n",
              "       'Grenada', 'Georgia', 'French Guiana', 'Guernsey', 'Ghana',\n",
              "       'Gibraltar', 'Greenland', 'Gambia', 'Guinea', 'Guadeloupe',\n",
              "       'Equatorial Guinea', 'Greece',\n",
              "       'South Georgia and the South Sandwich Islands', 'Guatemala',\n",
              "       'Guam', 'Guinea-Bissau', 'Guyana', 'Gaza Strip', 'Hong Kong',\n",
              "       'Heard Island and McDonald Islands', 'Honduras', 'Croatia',\n",
              "       'Haiti', 'Hungary', 'Indonesia', 'Ireland', 'Israel',\n",
              "       'Isle of Man', 'India', 'British Indian Ocean Territory', 'Iraq',\n",
              "       'Iran', 'Iceland', 'Italy', 'Jersey', 'Jamaica', 'Jordan', 'Japan',\n",
              "       'Kenya', 'Kyrgyzstan', 'Cambodia', 'Kiribati', 'Comoros',\n",
              "       'Saint Kitts and Nevis', 'North Korea', 'South Korea', 'Kuwait',\n",
              "       'Cayman Islands', 'Kazakhstan', 'Laos', 'Lebanon', 'Saint Lucia',\n",
              "       'Liechtenstein', 'Sri Lanka', 'Liberia', 'Lesotho', 'Lithuania',\n",
              "       'Luxembourg', 'Latvia', 'Libya', 'Morocco', 'Monaco', 'Moldova',\n",
              "       'Montenegro', 'Madagascar', 'Marshall Islands',\n",
              "       'Macedonia [FYROM]', 'Mali', 'Myanmar [Burma]', 'Mongolia',\n",
              "       'Macau', 'Northern Mariana Islands', 'Martinique', 'Mauritania',\n",
              "       'Montserrat', 'Malta', 'Mauritius', 'Maldives', 'Malawi', 'Mexico',\n",
              "       'Malaysia', 'Mozambique', 'Namibia', 'New Caledonia', 'Niger',\n",
              "       'Norfolk Island', 'Nigeria', 'Nicaragua', 'Netherlands', 'Norway',\n",
              "       'Nepal', 'Nauru', 'Niue', 'New Zealand', 'Oman', 'Panama', 'Peru',\n",
              "       'French Polynesia', 'Papua New Guinea', 'Philippines', 'Pakistan',\n",
              "       'Poland', 'Saint Pierre and Miquelon', 'Pitcairn Islands',\n",
              "       'Puerto Rico', 'Palestinian Territories', 'Portugal', 'Palau',\n",
              "       'Paraguay', 'Qatar', 'Réunion', 'Romania', 'Serbia', 'Russia',\n",
              "       'Rwanda', 'Saudi Arabia', 'Solomon Islands', 'Seychelles', 'Sudan',\n",
              "       'Sweden', 'Singapore', 'Saint Helena', 'Slovenia',\n",
              "       'Svalbard and Jan Mayen', 'Slovakia', 'Sierra Leone', 'San Marino',\n",
              "       'Senegal', 'Somalia', 'Suriname', 'São Tomé and Príncipe',\n",
              "       'El Salvador', 'Syria', 'Swaziland', 'Turks and Caicos Islands',\n",
              "       'Chad', 'French Southern Territories', 'Togo', 'Thailand',\n",
              "       'Tajikistan', 'Tokelau', 'Timor-Leste', 'Turkmenistan', 'Tunisia',\n",
              "       'Tonga', 'Turkey', 'Trinidad and Tobago', 'Tuvalu', 'Taiwan',\n",
              "       'Tanzania', 'Ukraine', 'Uganda', 'U.S. Minor Outlying Islands',\n",
              "       'United States', 'Uruguay', 'Uzbekistan', 'Vatican City',\n",
              "       'Saint Vincent and the Grenadines', 'Venezuela',\n",
              "       'British Virgin Islands', 'U.S. Virgin Islands', 'Vietnam',\n",
              "       'Vanuatu', 'Wallis and Futuna', 'Samoa', 'Kosovo', 'Yemen',\n",
              "       'Mayotte', 'South Africa', 'Zambia', 'Zimbabwe'], dtype=object)"
            ]
          },
          "metadata": {
            "tags": []
          },
          "execution_count": 34
        }
      ]
    },
    {
      "cell_type": "code",
      "metadata": {
        "id": "gy5BlJgFxyHg",
        "colab_type": "code",
        "outputId": "c85dcd6f-e695-4253-dc45-cba60330ee67",
        "colab": {
          "base_uri": "https://localhost:8080/",
          "height": 655
        }
      },
      "source": [
        "covid_data['Country/Region'].unique()"
      ],
      "execution_count": 35,
      "outputs": [
        {
          "output_type": "execute_result",
          "data": {
            "text/plain": [
              "array(['Afghanistan', 'Albania', 'Algeria', 'Andorra', 'Angola',\n",
              "       'Antigua and Barbuda', 'Argentina', 'Armenia', 'Australia',\n",
              "       'Austria', 'Azerbaijan', 'Bahamas', 'Bahrain', 'Bangladesh',\n",
              "       'Barbados', 'Belarus', 'Belgium', 'Belize', 'Benin', 'Bhutan',\n",
              "       'Bolivia', 'Bosnia and Herzegovina', 'Botswana', 'Brazil',\n",
              "       'Brunei', 'Bulgaria', 'Burkina Faso', 'Burma', 'Burundi',\n",
              "       'Cabo Verde', 'Cambodia', 'Cameroon', 'Canada',\n",
              "       'Central African Republic', 'Chad', 'Chile', 'China', 'Colombia',\n",
              "       'Congo (Brazzaville)', 'Congo (Kinshasa)', 'Costa Rica',\n",
              "       \"Cote d'Ivoire\", 'Croatia', 'Cuba', 'Cyprus', 'Czechia', 'Denmark',\n",
              "       'Diamond Princess', 'Djibouti', 'Dominica', 'Dominican Republic',\n",
              "       'Ecuador', 'Egypt', 'El Salvador', 'Equatorial Guinea', 'Eritrea',\n",
              "       'Estonia', 'Eswatini', 'Ethiopia', 'Fiji', 'Finland', 'France',\n",
              "       'Gabon', 'Gambia', 'Georgia', 'Germany', 'Ghana', 'Greece',\n",
              "       'Grenada', 'Guatemala', 'Guinea-Bissau', 'Guinea', 'Guyana',\n",
              "       'Haiti', 'Holy See', 'Honduras', 'Hungary', 'Iceland', 'India',\n",
              "       'Indonesia', 'Iran', 'Iraq', 'Ireland', 'Israel', 'Italy',\n",
              "       'Jamaica', 'Japan', 'Jordan', 'Kazakhstan', 'Kenya',\n",
              "       'Korea, South', 'Kosovo', 'Kuwait', 'Kyrgyzstan', 'Laos', 'Latvia',\n",
              "       'Lebanon', 'Liberia', 'Libya', 'Liechtenstein', 'Lithuania',\n",
              "       'Luxembourg', 'MS Zaandam', 'Madagascar', 'Malawi', 'Malaysia',\n",
              "       'Maldives', 'Mali', 'Malta', 'Mauritania', 'Mauritius', 'Mexico',\n",
              "       'Moldova', 'Monaco', 'Mongolia', 'Montenegro', 'Morocco',\n",
              "       'Mozambique', 'Namibia', 'Nepal', 'Netherlands', 'New Zealand',\n",
              "       'Nicaragua', 'Niger', 'Nigeria', 'North Macedonia', 'Norway',\n",
              "       'Oman', 'Pakistan', 'Panama', 'Papua New Guinea', 'Paraguay',\n",
              "       'Peru', 'Philippines', 'Poland', 'Portugal', 'Qatar', 'Romania',\n",
              "       'Russia', 'Rwanda', 'Saint Kitts and Nevis', 'Saint Lucia',\n",
              "       'Saint Vincent and the Grenadines', 'San Marino',\n",
              "       'Sao Tome and Principe', 'Saudi Arabia', 'Senegal', 'Serbia',\n",
              "       'Seychelles', 'Sierra Leone', 'Singapore', 'Slovakia', 'Slovenia',\n",
              "       'Somalia', 'South Africa', 'South Sudan', 'Spain', 'Sri Lanka',\n",
              "       'Sudan', 'Suriname', 'Sweden', 'Switzerland', 'Syria', 'Taiwan*',\n",
              "       'Tanzania', 'Thailand', 'Timor-Leste', 'Togo',\n",
              "       'Trinidad and Tobago', 'Tunisia', 'Turkey', 'US', 'Uganda',\n",
              "       'Ukraine', 'United Arab Emirates', 'United Kingdom', 'Uruguay',\n",
              "       'Uzbekistan', 'Venezuela', 'Vietnam', 'West Bank and Gaza',\n",
              "       'Western Sahara', 'Yemen', 'Zambia', 'Zimbabwe'], dtype=object)"
            ]
          },
          "metadata": {
            "tags": []
          },
          "execution_count": 35
        }
      ]
    },
    {
      "cell_type": "code",
      "metadata": {
        "id": "IY-PcHLHzIcj",
        "colab_type": "code",
        "colab": {}
      },
      "source": [
        "#Define a function to seperate extra countries in both datasets\n",
        "import numpy as np\n",
        "\n",
        "def extra_countries(c1, c2):\n",
        "  extra_countries = []\n",
        "  for i in c1:\n",
        "    flag = 0\n",
        "    for j in c2:\n",
        "      if (i == j):\n",
        "        flag = 1\n",
        "    if (flag == 0):\n",
        "      extra_countries.append(i)\n",
        "  \n",
        "  return np.array(extra_countries)"
      ],
      "execution_count": 0,
      "outputs": []
    },
    {
      "cell_type": "code",
      "metadata": {
        "id": "fzFl725_05Sn",
        "colab_type": "code",
        "outputId": "6dd6d7ac-664f-4d2d-8277-0116f7e455e5",
        "colab": {
          "base_uri": "https://localhost:8080/",
          "height": 403
        }
      },
      "source": [
        "#Finding countries that are in latitudes.csv but not in covid_19_data.csv\n",
        "\n",
        "extra_countries(latitudes_countries['country'].unique(), covid_data['Country/Region'].unique())"
      ],
      "execution_count": 37,
      "outputs": [
        {
          "output_type": "execute_result",
          "data": {
            "text/plain": [
              "array(['Anguilla', 'Netherlands Antilles', 'Antarctica', 'American Samoa',\n",
              "       'Aruba', 'Bermuda', 'Bouvet Island', 'Cocos [Keeling] Islands',\n",
              "       'Congo [DRC]', 'Congo [Republic]', \"Côte d'Ivoire\", 'Cook Islands',\n",
              "       'Cape Verde', 'Christmas Island', 'Czech Republic',\n",
              "       'Falkland Islands [Islas Malvinas]', 'Micronesia', 'Faroe Islands',\n",
              "       'French Guiana', 'Guernsey', 'Gibraltar', 'Greenland',\n",
              "       'Guadeloupe', 'South Georgia and the South Sandwich Islands',\n",
              "       'Guam', 'Gaza Strip', 'Hong Kong',\n",
              "       'Heard Island and McDonald Islands', 'Isle of Man',\n",
              "       'British Indian Ocean Territory', 'Jersey', 'Kiribati', 'Comoros',\n",
              "       'North Korea', 'South Korea', 'Cayman Islands', 'Lesotho',\n",
              "       'Marshall Islands', 'Macedonia [FYROM]', 'Myanmar [Burma]',\n",
              "       'Macau', 'Northern Mariana Islands', 'Martinique', 'Montserrat',\n",
              "       'New Caledonia', 'Norfolk Island', 'Nauru', 'Niue',\n",
              "       'French Polynesia', 'Saint Pierre and Miquelon',\n",
              "       'Pitcairn Islands', 'Puerto Rico', 'Palestinian Territories',\n",
              "       'Palau', 'Réunion', 'Solomon Islands', 'Saint Helena',\n",
              "       'Svalbard and Jan Mayen', 'São Tomé and Príncipe', 'Swaziland',\n",
              "       'Turks and Caicos Islands', 'French Southern Territories',\n",
              "       'Tajikistan', 'Tokelau', 'Turkmenistan', 'Tonga', 'Tuvalu',\n",
              "       'Taiwan', 'U.S. Minor Outlying Islands', 'United States',\n",
              "       'Vatican City', 'British Virgin Islands', 'U.S. Virgin Islands',\n",
              "       'Vanuatu', 'Wallis and Futuna', 'Samoa', 'Mayotte'], dtype='<U44')"
            ]
          },
          "metadata": {
            "tags": []
          },
          "execution_count": 37
        }
      ]
    },
    {
      "cell_type": "code",
      "metadata": {
        "id": "_s3AknDS3tlV",
        "colab_type": "code",
        "outputId": "e01e4b39-e78e-4017-93ed-6b4fc48fba88",
        "colab": {
          "base_uri": "https://localhost:8080/",
          "height": 101
        }
      },
      "source": [
        "#Finding countries that are in covid_19_data.csv but not in latitudes.csv\n",
        "\n",
        "extra_countries(covid_data['Country/Region'].unique(),latitudes_countries['country'].unique())"
      ],
      "execution_count": 38,
      "outputs": [
        {
          "output_type": "execute_result",
          "data": {
            "text/plain": [
              "array(['Burma', 'Cabo Verde', 'Congo (Brazzaville)', 'Congo (Kinshasa)',\n",
              "       \"Cote d'Ivoire\", 'Czechia', 'Diamond Princess', 'Eswatini',\n",
              "       'Holy See', 'Korea, South', 'MS Zaandam', 'North Macedonia',\n",
              "       'Sao Tome and Principe', 'South Sudan', 'Taiwan*', 'US',\n",
              "       'West Bank and Gaza'], dtype='<U21')"
            ]
          },
          "metadata": {
            "tags": []
          },
          "execution_count": 38
        }
      ]
    },
    {
      "cell_type": "markdown",
      "metadata": {
        "id": "gmHrHLW06kjr",
        "colab_type": "text"
      },
      "source": [
        "**Replace country names in CoVID-19 dataset with matching names from Latitudes dataset**"
      ]
    },
    {
      "cell_type": "code",
      "metadata": {
        "id": "vW3K-xyV6xIx",
        "colab_type": "code",
        "colab": {}
      },
      "source": [
        "corrected_covid_data = covid_data.replace(['Burma','Congo (Brazzaville)', 'Congo (Kinshasa)',\n",
        "       \"Cote d'Ivoire\", 'Czechia', 'Diamond Princess',\n",
        "       'Korea, South', 'North Macedonia',\n",
        "       'South Sudan', 'Taiwan*', 'US',\n",
        "       'West Bank and Gaza'], ['Myanmar [Burma]', 'Congo [DRC]', 'Congo [DRC]', \"Côte d'Ivoire\", 'Czech Republic',\n",
        "                               'Japan', 'South Korea',\n",
        "                               'Macedonia [FYROM]', 'Sudan', 'Taiwan', 'United States', 'Gaza Strip'])\n",
        "countries_to_drop = ['Holy See','Eswatini', 'Cabo Verde','MS Zaandam',\n",
        "                     'Sao Tome and Principe']"
      ],
      "execution_count": 0,
      "outputs": []
    },
    {
      "cell_type": "code",
      "metadata": {
        "id": "7NeqGsPf6yzs",
        "colab_type": "code",
        "outputId": "c81dbd1d-dd81-4da5-e8b4-bbce8d473aea",
        "colab": {
          "base_uri": "https://localhost:8080/",
          "height": 195
        }
      },
      "source": [
        "corrected_covid_data.head()"
      ],
      "execution_count": 40,
      "outputs": [
        {
          "output_type": "execute_result",
          "data": {
            "text/html": [
              "<div>\n",
              "<style scoped>\n",
              "    .dataframe tbody tr th:only-of-type {\n",
              "        vertical-align: middle;\n",
              "    }\n",
              "\n",
              "    .dataframe tbody tr th {\n",
              "        vertical-align: top;\n",
              "    }\n",
              "\n",
              "    .dataframe thead th {\n",
              "        text-align: right;\n",
              "    }\n",
              "</style>\n",
              "<table border=\"1\" class=\"dataframe\">\n",
              "  <thead>\n",
              "    <tr style=\"text-align: right;\">\n",
              "      <th></th>\n",
              "      <th>Date</th>\n",
              "      <th>Country/Region</th>\n",
              "      <th>Province/State</th>\n",
              "      <th>Lat</th>\n",
              "      <th>Long</th>\n",
              "      <th>Confirmed</th>\n",
              "      <th>Recovered</th>\n",
              "      <th>Deaths</th>\n",
              "    </tr>\n",
              "  </thead>\n",
              "  <tbody>\n",
              "    <tr>\n",
              "      <th>0</th>\n",
              "      <td>2020-01-22</td>\n",
              "      <td>Afghanistan</td>\n",
              "      <td>NaN</td>\n",
              "      <td>33.0</td>\n",
              "      <td>65.0</td>\n",
              "      <td>0.0</td>\n",
              "      <td>0.0</td>\n",
              "      <td>0.0</td>\n",
              "    </tr>\n",
              "    <tr>\n",
              "      <th>1</th>\n",
              "      <td>2020-01-23</td>\n",
              "      <td>Afghanistan</td>\n",
              "      <td>NaN</td>\n",
              "      <td>33.0</td>\n",
              "      <td>65.0</td>\n",
              "      <td>0.0</td>\n",
              "      <td>0.0</td>\n",
              "      <td>0.0</td>\n",
              "    </tr>\n",
              "    <tr>\n",
              "      <th>2</th>\n",
              "      <td>2020-01-24</td>\n",
              "      <td>Afghanistan</td>\n",
              "      <td>NaN</td>\n",
              "      <td>33.0</td>\n",
              "      <td>65.0</td>\n",
              "      <td>0.0</td>\n",
              "      <td>0.0</td>\n",
              "      <td>0.0</td>\n",
              "    </tr>\n",
              "    <tr>\n",
              "      <th>3</th>\n",
              "      <td>2020-01-25</td>\n",
              "      <td>Afghanistan</td>\n",
              "      <td>NaN</td>\n",
              "      <td>33.0</td>\n",
              "      <td>65.0</td>\n",
              "      <td>0.0</td>\n",
              "      <td>0.0</td>\n",
              "      <td>0.0</td>\n",
              "    </tr>\n",
              "    <tr>\n",
              "      <th>4</th>\n",
              "      <td>2020-01-26</td>\n",
              "      <td>Afghanistan</td>\n",
              "      <td>NaN</td>\n",
              "      <td>33.0</td>\n",
              "      <td>65.0</td>\n",
              "      <td>0.0</td>\n",
              "      <td>0.0</td>\n",
              "      <td>0.0</td>\n",
              "    </tr>\n",
              "  </tbody>\n",
              "</table>\n",
              "</div>"
            ],
            "text/plain": [
              "         Date Country/Region Province/State  ...  Confirmed  Recovered  Deaths\n",
              "0  2020-01-22    Afghanistan            NaN  ...        0.0        0.0     0.0\n",
              "1  2020-01-23    Afghanistan            NaN  ...        0.0        0.0     0.0\n",
              "2  2020-01-24    Afghanistan            NaN  ...        0.0        0.0     0.0\n",
              "3  2020-01-25    Afghanistan            NaN  ...        0.0        0.0     0.0\n",
              "4  2020-01-26    Afghanistan            NaN  ...        0.0        0.0     0.0\n",
              "\n",
              "[5 rows x 8 columns]"
            ]
          },
          "metadata": {
            "tags": []
          },
          "execution_count": 40
        }
      ]
    },
    {
      "cell_type": "code",
      "metadata": {
        "id": "wxXkES1F52DC",
        "colab_type": "code",
        "colab": {
          "base_uri": "https://localhost:8080/",
          "height": 34
        },
        "outputId": "b094b568-a760-4575-da55-d4a9b3f80bf4"
      },
      "source": [
        "#Finding countries in corrected_covid_data but not in latitudes\n",
        "\n",
        "extras = extra_countries(corrected_covid_data['Country/Region'].unique(), latitudes_countries['country'].unique())\n",
        "print(extras)"
      ],
      "execution_count": 41,
      "outputs": [
        {
          "output_type": "stream",
          "text": [
            "['Cabo Verde' 'Eswatini' 'Holy See' 'MS Zaandam' 'Sao Tome and Principe']\n"
          ],
          "name": "stdout"
        }
      ]
    },
    {
      "cell_type": "code",
      "metadata": {
        "id": "GZbfhkqxzxls",
        "colab_type": "code",
        "colab": {}
      },
      "source": [
        "for i in extras:\n",
        "  corrected_covid_data = corrected_covid_data[corrected_covid_data['Country/Region'] != i]"
      ],
      "execution_count": 0,
      "outputs": []
    },
    {
      "cell_type": "markdown",
      "metadata": {
        "id": "Q80wiroNSJSA",
        "colab_type": "text"
      },
      "source": [
        "## **Enter code to replace the Country/ Region column with the latitude and longitude columns**\n",
        "Also, drop unnecessary columns"
      ]
    },
    {
      "cell_type": "code",
      "metadata": {
        "id": "YJEakUx_DsC6",
        "colab_type": "code",
        "outputId": "90784ea1-2975-41f8-ec05-d7622ae8938a",
        "colab": {
          "base_uri": "https://localhost:8080/",
          "height": 195
        }
      },
      "source": [
        "latitudes_countries.head()"
      ],
      "execution_count": 43,
      "outputs": [
        {
          "output_type": "execute_result",
          "data": {
            "text/html": [
              "<div>\n",
              "<style scoped>\n",
              "    .dataframe tbody tr th:only-of-type {\n",
              "        vertical-align: middle;\n",
              "    }\n",
              "\n",
              "    .dataframe tbody tr th {\n",
              "        vertical-align: top;\n",
              "    }\n",
              "\n",
              "    .dataframe thead th {\n",
              "        text-align: right;\n",
              "    }\n",
              "</style>\n",
              "<table border=\"1\" class=\"dataframe\">\n",
              "  <thead>\n",
              "    <tr style=\"text-align: right;\">\n",
              "      <th></th>\n",
              "      <th>country_code</th>\n",
              "      <th>latitude</th>\n",
              "      <th>longitude</th>\n",
              "      <th>country</th>\n",
              "    </tr>\n",
              "  </thead>\n",
              "  <tbody>\n",
              "    <tr>\n",
              "      <th>0</th>\n",
              "      <td>AD</td>\n",
              "      <td>42.546245</td>\n",
              "      <td>1.601554</td>\n",
              "      <td>Andorra</td>\n",
              "    </tr>\n",
              "    <tr>\n",
              "      <th>1</th>\n",
              "      <td>AE</td>\n",
              "      <td>23.424076</td>\n",
              "      <td>53.847818</td>\n",
              "      <td>United Arab Emirates</td>\n",
              "    </tr>\n",
              "    <tr>\n",
              "      <th>2</th>\n",
              "      <td>AF</td>\n",
              "      <td>33.939110</td>\n",
              "      <td>67.709953</td>\n",
              "      <td>Afghanistan</td>\n",
              "    </tr>\n",
              "    <tr>\n",
              "      <th>3</th>\n",
              "      <td>AG</td>\n",
              "      <td>17.060816</td>\n",
              "      <td>-61.796428</td>\n",
              "      <td>Antigua and Barbuda</td>\n",
              "    </tr>\n",
              "    <tr>\n",
              "      <th>4</th>\n",
              "      <td>AI</td>\n",
              "      <td>18.220554</td>\n",
              "      <td>-63.068615</td>\n",
              "      <td>Anguilla</td>\n",
              "    </tr>\n",
              "  </tbody>\n",
              "</table>\n",
              "</div>"
            ],
            "text/plain": [
              "  country_code   latitude  longitude               country\n",
              "0           AD  42.546245   1.601554               Andorra\n",
              "1           AE  23.424076  53.847818  United Arab Emirates\n",
              "2           AF  33.939110  67.709953           Afghanistan\n",
              "3           AG  17.060816 -61.796428   Antigua and Barbuda\n",
              "4           AI  18.220554 -63.068615              Anguilla"
            ]
          },
          "metadata": {
            "tags": []
          },
          "execution_count": 43
        }
      ]
    },
    {
      "cell_type": "code",
      "metadata": {
        "id": "tgE3_gCQF0TF",
        "colab_type": "code",
        "colab": {}
      },
      "source": [
        "req_lat_long = latitudes_countries.loc[:,['country','latitude', 'longitude']]\n",
        "req_lat_long = req_lat_long.set_index('country')"
      ],
      "execution_count": 0,
      "outputs": []
    },
    {
      "cell_type": "code",
      "metadata": {
        "id": "0tGoFwK4yHNd",
        "colab_type": "code",
        "outputId": "455b2e0f-3a20-4a12-91da-d8df9d24d4d1",
        "colab": {
          "base_uri": "https://localhost:8080/",
          "height": 225
        }
      },
      "source": [
        "req_lat_long.head()"
      ],
      "execution_count": 45,
      "outputs": [
        {
          "output_type": "execute_result",
          "data": {
            "text/html": [
              "<div>\n",
              "<style scoped>\n",
              "    .dataframe tbody tr th:only-of-type {\n",
              "        vertical-align: middle;\n",
              "    }\n",
              "\n",
              "    .dataframe tbody tr th {\n",
              "        vertical-align: top;\n",
              "    }\n",
              "\n",
              "    .dataframe thead th {\n",
              "        text-align: right;\n",
              "    }\n",
              "</style>\n",
              "<table border=\"1\" class=\"dataframe\">\n",
              "  <thead>\n",
              "    <tr style=\"text-align: right;\">\n",
              "      <th></th>\n",
              "      <th>latitude</th>\n",
              "      <th>longitude</th>\n",
              "    </tr>\n",
              "    <tr>\n",
              "      <th>country</th>\n",
              "      <th></th>\n",
              "      <th></th>\n",
              "    </tr>\n",
              "  </thead>\n",
              "  <tbody>\n",
              "    <tr>\n",
              "      <th>Andorra</th>\n",
              "      <td>42.546245</td>\n",
              "      <td>1.601554</td>\n",
              "    </tr>\n",
              "    <tr>\n",
              "      <th>United Arab Emirates</th>\n",
              "      <td>23.424076</td>\n",
              "      <td>53.847818</td>\n",
              "    </tr>\n",
              "    <tr>\n",
              "      <th>Afghanistan</th>\n",
              "      <td>33.939110</td>\n",
              "      <td>67.709953</td>\n",
              "    </tr>\n",
              "    <tr>\n",
              "      <th>Antigua and Barbuda</th>\n",
              "      <td>17.060816</td>\n",
              "      <td>-61.796428</td>\n",
              "    </tr>\n",
              "    <tr>\n",
              "      <th>Anguilla</th>\n",
              "      <td>18.220554</td>\n",
              "      <td>-63.068615</td>\n",
              "    </tr>\n",
              "  </tbody>\n",
              "</table>\n",
              "</div>"
            ],
            "text/plain": [
              "                       latitude  longitude\n",
              "country                                   \n",
              "Andorra               42.546245   1.601554\n",
              "United Arab Emirates  23.424076  53.847818\n",
              "Afghanistan           33.939110  67.709953\n",
              "Antigua and Barbuda   17.060816 -61.796428\n",
              "Anguilla              18.220554 -63.068615"
            ]
          },
          "metadata": {
            "tags": []
          },
          "execution_count": 45
        }
      ]
    },
    {
      "cell_type": "code",
      "metadata": {
        "id": "vMqkgPloFKlF",
        "colab_type": "code",
        "colab": {}
      },
      "source": [
        "latitude_cols = []\n",
        "longitude_cols = []\n",
        "\n",
        "for i in corrected_covid_data['Country/Region']:\n",
        "  latitude = req_lat_long.loc[i, 'latitude']\n",
        "  longitude = req_lat_long.loc[i, 'longitude']\n",
        "  latitude_cols.append(latitude)\n",
        "  longitude_cols.append(longitude)\n",
        "\n",
        "latitude_cols = np.array(latitude_cols)\n",
        "longitude_cols = np.array(longitude_cols)"
      ],
      "execution_count": 0,
      "outputs": []
    },
    {
      "cell_type": "code",
      "metadata": {
        "id": "dX9kDkGMyO9Q",
        "colab_type": "code",
        "colab": {}
      },
      "source": [
        "corrected_covid_data['Latitude'] = latitude_cols\n",
        "corrected_covid_data['Longitude'] = longitude_cols"
      ],
      "execution_count": 0,
      "outputs": []
    },
    {
      "cell_type": "code",
      "metadata": {
        "id": "ewHTevcj1HI-",
        "colab_type": "code",
        "outputId": "07e9bca2-5bb7-43a4-856e-88ae0d10d0ae",
        "colab": {
          "base_uri": "https://localhost:8080/",
          "height": 195
        }
      },
      "source": [
        "corrected_covid_data = corrected_covid_data.drop(['Lat','Long'], axis = 1)\n",
        "corrected_covid_data.head()       #Obtained latitude and longitude for all countries within the dataframe"
      ],
      "execution_count": 48,
      "outputs": [
        {
          "output_type": "execute_result",
          "data": {
            "text/html": [
              "<div>\n",
              "<style scoped>\n",
              "    .dataframe tbody tr th:only-of-type {\n",
              "        vertical-align: middle;\n",
              "    }\n",
              "\n",
              "    .dataframe tbody tr th {\n",
              "        vertical-align: top;\n",
              "    }\n",
              "\n",
              "    .dataframe thead th {\n",
              "        text-align: right;\n",
              "    }\n",
              "</style>\n",
              "<table border=\"1\" class=\"dataframe\">\n",
              "  <thead>\n",
              "    <tr style=\"text-align: right;\">\n",
              "      <th></th>\n",
              "      <th>Date</th>\n",
              "      <th>Country/Region</th>\n",
              "      <th>Province/State</th>\n",
              "      <th>Confirmed</th>\n",
              "      <th>Recovered</th>\n",
              "      <th>Deaths</th>\n",
              "      <th>Latitude</th>\n",
              "      <th>Longitude</th>\n",
              "    </tr>\n",
              "  </thead>\n",
              "  <tbody>\n",
              "    <tr>\n",
              "      <th>0</th>\n",
              "      <td>2020-01-22</td>\n",
              "      <td>Afghanistan</td>\n",
              "      <td>NaN</td>\n",
              "      <td>0.0</td>\n",
              "      <td>0.0</td>\n",
              "      <td>0.0</td>\n",
              "      <td>33.93911</td>\n",
              "      <td>67.709953</td>\n",
              "    </tr>\n",
              "    <tr>\n",
              "      <th>1</th>\n",
              "      <td>2020-01-23</td>\n",
              "      <td>Afghanistan</td>\n",
              "      <td>NaN</td>\n",
              "      <td>0.0</td>\n",
              "      <td>0.0</td>\n",
              "      <td>0.0</td>\n",
              "      <td>33.93911</td>\n",
              "      <td>67.709953</td>\n",
              "    </tr>\n",
              "    <tr>\n",
              "      <th>2</th>\n",
              "      <td>2020-01-24</td>\n",
              "      <td>Afghanistan</td>\n",
              "      <td>NaN</td>\n",
              "      <td>0.0</td>\n",
              "      <td>0.0</td>\n",
              "      <td>0.0</td>\n",
              "      <td>33.93911</td>\n",
              "      <td>67.709953</td>\n",
              "    </tr>\n",
              "    <tr>\n",
              "      <th>3</th>\n",
              "      <td>2020-01-25</td>\n",
              "      <td>Afghanistan</td>\n",
              "      <td>NaN</td>\n",
              "      <td>0.0</td>\n",
              "      <td>0.0</td>\n",
              "      <td>0.0</td>\n",
              "      <td>33.93911</td>\n",
              "      <td>67.709953</td>\n",
              "    </tr>\n",
              "    <tr>\n",
              "      <th>4</th>\n",
              "      <td>2020-01-26</td>\n",
              "      <td>Afghanistan</td>\n",
              "      <td>NaN</td>\n",
              "      <td>0.0</td>\n",
              "      <td>0.0</td>\n",
              "      <td>0.0</td>\n",
              "      <td>33.93911</td>\n",
              "      <td>67.709953</td>\n",
              "    </tr>\n",
              "  </tbody>\n",
              "</table>\n",
              "</div>"
            ],
            "text/plain": [
              "         Date Country/Region Province/State  ...  Deaths  Latitude  Longitude\n",
              "0  2020-01-22    Afghanistan            NaN  ...     0.0  33.93911  67.709953\n",
              "1  2020-01-23    Afghanistan            NaN  ...     0.0  33.93911  67.709953\n",
              "2  2020-01-24    Afghanistan            NaN  ...     0.0  33.93911  67.709953\n",
              "3  2020-01-25    Afghanistan            NaN  ...     0.0  33.93911  67.709953\n",
              "4  2020-01-26    Afghanistan            NaN  ...     0.0  33.93911  67.709953\n",
              "\n",
              "[5 rows x 8 columns]"
            ]
          },
          "metadata": {
            "tags": []
          },
          "execution_count": 48
        }
      ]
    },
    {
      "cell_type": "code",
      "metadata": {
        "id": "EOdxt6WuG_FR",
        "colab_type": "code",
        "colab": {
          "base_uri": "https://localhost:8080/",
          "height": 195
        },
        "outputId": "85bde573-1021-4d6f-ba15-b34468d58b28"
      },
      "source": [
        "corrected_covid_data = corrected_covid_data.drop(['Province/State'], axis = 1)\n",
        "corrected_covid_data.head()"
      ],
      "execution_count": 49,
      "outputs": [
        {
          "output_type": "execute_result",
          "data": {
            "text/html": [
              "<div>\n",
              "<style scoped>\n",
              "    .dataframe tbody tr th:only-of-type {\n",
              "        vertical-align: middle;\n",
              "    }\n",
              "\n",
              "    .dataframe tbody tr th {\n",
              "        vertical-align: top;\n",
              "    }\n",
              "\n",
              "    .dataframe thead th {\n",
              "        text-align: right;\n",
              "    }\n",
              "</style>\n",
              "<table border=\"1\" class=\"dataframe\">\n",
              "  <thead>\n",
              "    <tr style=\"text-align: right;\">\n",
              "      <th></th>\n",
              "      <th>Date</th>\n",
              "      <th>Country/Region</th>\n",
              "      <th>Confirmed</th>\n",
              "      <th>Recovered</th>\n",
              "      <th>Deaths</th>\n",
              "      <th>Latitude</th>\n",
              "      <th>Longitude</th>\n",
              "    </tr>\n",
              "  </thead>\n",
              "  <tbody>\n",
              "    <tr>\n",
              "      <th>0</th>\n",
              "      <td>2020-01-22</td>\n",
              "      <td>Afghanistan</td>\n",
              "      <td>0.0</td>\n",
              "      <td>0.0</td>\n",
              "      <td>0.0</td>\n",
              "      <td>33.93911</td>\n",
              "      <td>67.709953</td>\n",
              "    </tr>\n",
              "    <tr>\n",
              "      <th>1</th>\n",
              "      <td>2020-01-23</td>\n",
              "      <td>Afghanistan</td>\n",
              "      <td>0.0</td>\n",
              "      <td>0.0</td>\n",
              "      <td>0.0</td>\n",
              "      <td>33.93911</td>\n",
              "      <td>67.709953</td>\n",
              "    </tr>\n",
              "    <tr>\n",
              "      <th>2</th>\n",
              "      <td>2020-01-24</td>\n",
              "      <td>Afghanistan</td>\n",
              "      <td>0.0</td>\n",
              "      <td>0.0</td>\n",
              "      <td>0.0</td>\n",
              "      <td>33.93911</td>\n",
              "      <td>67.709953</td>\n",
              "    </tr>\n",
              "    <tr>\n",
              "      <th>3</th>\n",
              "      <td>2020-01-25</td>\n",
              "      <td>Afghanistan</td>\n",
              "      <td>0.0</td>\n",
              "      <td>0.0</td>\n",
              "      <td>0.0</td>\n",
              "      <td>33.93911</td>\n",
              "      <td>67.709953</td>\n",
              "    </tr>\n",
              "    <tr>\n",
              "      <th>4</th>\n",
              "      <td>2020-01-26</td>\n",
              "      <td>Afghanistan</td>\n",
              "      <td>0.0</td>\n",
              "      <td>0.0</td>\n",
              "      <td>0.0</td>\n",
              "      <td>33.93911</td>\n",
              "      <td>67.709953</td>\n",
              "    </tr>\n",
              "  </tbody>\n",
              "</table>\n",
              "</div>"
            ],
            "text/plain": [
              "         Date Country/Region  Confirmed  Recovered  Deaths  Latitude  Longitude\n",
              "0  2020-01-22    Afghanistan        0.0        0.0     0.0  33.93911  67.709953\n",
              "1  2020-01-23    Afghanistan        0.0        0.0     0.0  33.93911  67.709953\n",
              "2  2020-01-24    Afghanistan        0.0        0.0     0.0  33.93911  67.709953\n",
              "3  2020-01-25    Afghanistan        0.0        0.0     0.0  33.93911  67.709953\n",
              "4  2020-01-26    Afghanistan        0.0        0.0     0.0  33.93911  67.709953"
            ]
          },
          "metadata": {
            "tags": []
          },
          "execution_count": 49
        }
      ]
    },
    {
      "cell_type": "code",
      "metadata": {
        "id": "SOBf6OoQ1JuM",
        "colab_type": "code",
        "colab": {}
      },
      "source": [
        "corrected_covid_data.to_csv('cleaned_data_week_2.csv')"
      ],
      "execution_count": 0,
      "outputs": []
    },
    {
      "cell_type": "code",
      "metadata": {
        "id": "-7ilxX6Geepj",
        "colab_type": "code",
        "colab": {}
      },
      "source": [
        ""
      ],
      "execution_count": 0,
      "outputs": []
    }
  ]
}